{
 "cells": [
  {
   "cell_type": "code",
   "execution_count": 2,
   "id": "3ec65456",
   "metadata": {},
   "outputs": [],
   "source": [
    "import speech_recognition\n",
    "from neuralintents import GenericAssistant\n",
    "import pyttsx3 as tts\n",
    "import spotipy\n",
    "import re\n",
    "import webbrowser\n",
    "from playsound import playsound"
   ]
  },
  {
   "cell_type": "code",
   "execution_count": 3,
   "id": "021d8dea",
   "metadata": {},
   "outputs": [],
   "source": [
    "import speech_recognition\n",
    "\n",
    "def take_command():\n",
    "    recognizer = speech_recognition.Recognizer()\n",
    "\n",
    "    with speech_recognition.Microphone() as mic:\n",
    "        recognizer.adjust_for_ambient_noise(mic, duration=0.2)\n",
    "        audio = recognizer.listen(mic)\n",
    "\n",
    "    try:\n",
    "        print(\"recognizing\")\n",
    "        query = recognizer.recognize_google(audio, language=\"en-in\").lower()\n",
    "\n",
    "    except speech_recognition.UnknownValueError:\n",
    "        print(\"not recognizied\")\n",
    "        return \"None\"\n",
    "\n",
    "    return query\n",
    "\n",
    "\n"
   ]
  },
  {
   "cell_type": "code",
   "execution_count": null,
   "id": "6460fd60",
   "metadata": {},
   "outputs": [],
   "source": []
  }
 ],
 "metadata": {
  "kernelspec": {
   "display_name": "Python 3",
   "language": "python",
   "name": "python3"
  },
  "language_info": {
   "codemirror_mode": {
    "name": "ipython",
    "version": 3
   },
   "file_extension": ".py",
   "mimetype": "text/x-python",
   "name": "python",
   "nbconvert_exporter": "python",
   "pygments_lexer": "ipython3",
   "version": "3.8.10"
  }
 },
 "nbformat": 4,
 "nbformat_minor": 5
}
